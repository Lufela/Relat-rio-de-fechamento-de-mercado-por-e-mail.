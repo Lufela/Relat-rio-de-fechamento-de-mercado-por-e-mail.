{
 "cells": [
  {
   "cell_type": "code",
   "execution_count": 2,
   "id": "577788a8",
   "metadata": {},
   "outputs": [
    {
     "name": "stdout",
     "output_type": "stream",
     "text": [
      "Requirement already satisfied: yfinance==0.1.74 in c:\\users\\luisf\\anaconda3\\lib\\site-packages (0.1.74)\n",
      "Requirement already satisfied: numpy>=1.15 in c:\\users\\luisf\\anaconda3\\lib\\site-packages (from yfinance==0.1.74) (1.21.5)\n",
      "Requirement already satisfied: multitasking>=0.0.7 in c:\\users\\luisf\\anaconda3\\lib\\site-packages (from yfinance==0.1.74) (0.0.11)\n",
      "Requirement already satisfied: lxml>=4.5.1 in c:\\users\\luisf\\anaconda3\\lib\\site-packages (from yfinance==0.1.74) (4.9.1)\n",
      "Requirement already satisfied: pandas>=0.24.0 in c:\\users\\luisf\\anaconda3\\lib\\site-packages (from yfinance==0.1.74) (1.4.4)\n",
      "Requirement already satisfied: requests>=2.26 in c:\\users\\luisf\\anaconda3\\lib\\site-packages (from yfinance==0.1.74) (2.28.1)\n",
      "Requirement already satisfied: python-dateutil>=2.8.1 in c:\\users\\luisf\\anaconda3\\lib\\site-packages (from pandas>=0.24.0->yfinance==0.1.74) (2.8.2)\n",
      "Requirement already satisfied: pytz>=2020.1 in c:\\users\\luisf\\anaconda3\\lib\\site-packages (from pandas>=0.24.0->yfinance==0.1.74) (2022.7.1)\n",
      "Requirement already satisfied: idna<4,>=2.5 in c:\\users\\luisf\\anaconda3\\lib\\site-packages (from requests>=2.26->yfinance==0.1.74) (3.3)\n",
      "Requirement already satisfied: charset-normalizer<3,>=2 in c:\\users\\luisf\\anaconda3\\lib\\site-packages (from requests>=2.26->yfinance==0.1.74) (2.0.4)\n",
      "Requirement already satisfied: urllib3<1.27,>=1.21.1 in c:\\users\\luisf\\anaconda3\\lib\\site-packages (from requests>=2.26->yfinance==0.1.74) (1.26.11)\n",
      "Requirement already satisfied: certifi>=2017.4.17 in c:\\users\\luisf\\anaconda3\\lib\\site-packages (from requests>=2.26->yfinance==0.1.74) (2022.9.14)\n",
      "Requirement already satisfied: six>=1.5 in c:\\users\\luisf\\anaconda3\\lib\\site-packages (from python-dateutil>=2.8.1->pandas>=0.24.0->yfinance==0.1.74) (1.16.0)\n"
     ]
    }
   ],
   "source": [
    "!pip install yfinance==0.1.74"
   ]
  },
  {
   "cell_type": "code",
   "execution_count": 3,
   "id": "c7dee4c4",
   "metadata": {},
   "outputs": [
    {
     "name": "stdout",
     "output_type": "stream",
     "text": [
      "Requirement already satisfied: mplcyberpunk in c:\\users\\luisf\\anaconda3\\lib\\site-packages (0.6.0)\n",
      "Requirement already satisfied: matplotlib in c:\\users\\luisf\\anaconda3\\lib\\site-packages (from mplcyberpunk) (3.5.2)\n",
      "Requirement already satisfied: python-dateutil>=2.7 in c:\\users\\luisf\\anaconda3\\lib\\site-packages (from matplotlib->mplcyberpunk) (2.8.2)\n",
      "Requirement already satisfied: fonttools>=4.22.0 in c:\\users\\luisf\\anaconda3\\lib\\site-packages (from matplotlib->mplcyberpunk) (4.25.0)\n",
      "Requirement already satisfied: pillow>=6.2.0 in c:\\users\\luisf\\anaconda3\\lib\\site-packages (from matplotlib->mplcyberpunk) (9.2.0)\n",
      "Requirement already satisfied: cycler>=0.10 in c:\\users\\luisf\\anaconda3\\lib\\site-packages (from matplotlib->mplcyberpunk) (0.11.0)\n",
      "Requirement already satisfied: pyparsing>=2.2.1 in c:\\users\\luisf\\anaconda3\\lib\\site-packages (from matplotlib->mplcyberpunk) (3.0.9)\n",
      "Requirement already satisfied: packaging>=20.0 in c:\\users\\luisf\\anaconda3\\lib\\site-packages (from matplotlib->mplcyberpunk) (21.3)\n",
      "Requirement already satisfied: kiwisolver>=1.0.1 in c:\\users\\luisf\\anaconda3\\lib\\site-packages (from matplotlib->mplcyberpunk) (1.4.2)\n",
      "Requirement already satisfied: numpy>=1.17 in c:\\users\\luisf\\anaconda3\\lib\\site-packages (from matplotlib->mplcyberpunk) (1.21.5)\n",
      "Requirement already satisfied: six>=1.5 in c:\\users\\luisf\\anaconda3\\lib\\site-packages (from python-dateutil>=2.7->matplotlib->mplcyberpunk) (1.16.0)\n"
     ]
    }
   ],
   "source": [
    "!pip install mplcyberpunk"
   ]
  },
  {
   "cell_type": "code",
   "execution_count": 4,
   "id": "d6fd860f",
   "metadata": {},
   "outputs": [
    {
     "name": "stdout",
     "output_type": "stream",
     "text": [
      "Requirement already satisfied: pywin32 in c:\\users\\luisf\\anaconda3\\lib\\site-packages (302)\n"
     ]
    }
   ],
   "source": [
    "!pip install pywin32"
   ]
  },
  {
   "cell_type": "markdown",
   "id": "01feee56",
   "metadata": {},
   "source": [
    "\n",
    "Passo 1: Importando os módulos necessários\n",
    "\n"
   ]
  },
  {
   "cell_type": "code",
   "execution_count": 5,
   "id": "85dd52bd",
   "metadata": {},
   "outputs": [],
   "source": [
    "import pandas as pd\n",
    "import datetime\n",
    "import yfinance as yf\n",
    "from matplotlib import pyplot as plt\n",
    "import mplcyberpunk \n",
    "import win32com.client as win32"
   ]
  },
  {
   "cell_type": "markdown",
   "id": "92bbdcef",
   "metadata": {},
   "source": [
    "\n",
    "Passo 2: Pegar dados no Yahoo Finance\n",
    "\n"
   ]
  },
  {
   "cell_type": "code",
   "execution_count": 6,
   "id": "fee11ea8",
   "metadata": {},
   "outputs": [
    {
     "name": "stdout",
     "output_type": "stream",
     "text": [
      "[*********************100%***********************]  2 of 2 completed\n"
     ]
    },
    {
     "data": {
      "text/html": [
       "<div>\n",
       "<style scoped>\n",
       "    .dataframe tbody tr th:only-of-type {\n",
       "        vertical-align: middle;\n",
       "    }\n",
       "\n",
       "    .dataframe tbody tr th {\n",
       "        vertical-align: top;\n",
       "    }\n",
       "\n",
       "    .dataframe thead tr th {\n",
       "        text-align: left;\n",
       "    }\n",
       "\n",
       "    .dataframe thead tr:last-of-type th {\n",
       "        text-align: right;\n",
       "    }\n",
       "</style>\n",
       "<table border=\"1\" class=\"dataframe\">\n",
       "  <thead>\n",
       "    <tr>\n",
       "      <th></th>\n",
       "      <th colspan=\"2\" halign=\"left\">Adj Close</th>\n",
       "      <th colspan=\"2\" halign=\"left\">Close</th>\n",
       "      <th colspan=\"2\" halign=\"left\">High</th>\n",
       "      <th colspan=\"2\" halign=\"left\">Low</th>\n",
       "      <th colspan=\"2\" halign=\"left\">Open</th>\n",
       "      <th colspan=\"2\" halign=\"left\">Volume</th>\n",
       "    </tr>\n",
       "    <tr>\n",
       "      <th></th>\n",
       "      <th>BRL=X</th>\n",
       "      <th>^BVSP</th>\n",
       "      <th>BRL=X</th>\n",
       "      <th>^BVSP</th>\n",
       "      <th>BRL=X</th>\n",
       "      <th>^BVSP</th>\n",
       "      <th>BRL=X</th>\n",
       "      <th>^BVSP</th>\n",
       "      <th>BRL=X</th>\n",
       "      <th>^BVSP</th>\n",
       "      <th>BRL=X</th>\n",
       "      <th>^BVSP</th>\n",
       "    </tr>\n",
       "    <tr>\n",
       "      <th>Date</th>\n",
       "      <th></th>\n",
       "      <th></th>\n",
       "      <th></th>\n",
       "      <th></th>\n",
       "      <th></th>\n",
       "      <th></th>\n",
       "      <th></th>\n",
       "      <th></th>\n",
       "      <th></th>\n",
       "      <th></th>\n",
       "      <th></th>\n",
       "      <th></th>\n",
       "    </tr>\n",
       "  </thead>\n",
       "  <tbody>\n",
       "    <tr>\n",
       "      <th>2022-02-07</th>\n",
       "      <td>5.3269</td>\n",
       "      <td>111996.0</td>\n",
       "      <td>5.3269</td>\n",
       "      <td>111996.0</td>\n",
       "      <td>5.3430</td>\n",
       "      <td>112517.0</td>\n",
       "      <td>5.276800</td>\n",
       "      <td>111490.0</td>\n",
       "      <td>5.326200</td>\n",
       "      <td>112247.0</td>\n",
       "      <td>0.0</td>\n",
       "      <td>10672800.0</td>\n",
       "    </tr>\n",
       "    <tr>\n",
       "      <th>2022-02-08</th>\n",
       "      <td>5.2626</td>\n",
       "      <td>112234.0</td>\n",
       "      <td>5.2626</td>\n",
       "      <td>112234.0</td>\n",
       "      <td>5.2849</td>\n",
       "      <td>112251.0</td>\n",
       "      <td>5.251000</td>\n",
       "      <td>110943.0</td>\n",
       "      <td>5.262800</td>\n",
       "      <td>111995.0</td>\n",
       "      <td>0.0</td>\n",
       "      <td>10157500.0</td>\n",
       "    </tr>\n",
       "    <tr>\n",
       "      <th>2022-02-09</th>\n",
       "      <td>5.2584</td>\n",
       "      <td>112461.0</td>\n",
       "      <td>5.2584</td>\n",
       "      <td>112461.0</td>\n",
       "      <td>5.2880</td>\n",
       "      <td>113163.0</td>\n",
       "      <td>5.232774</td>\n",
       "      <td>111710.0</td>\n",
       "      <td>5.256489</td>\n",
       "      <td>112233.0</td>\n",
       "      <td>0.0</td>\n",
       "      <td>13794500.0</td>\n",
       "    </tr>\n",
       "    <tr>\n",
       "      <th>2022-02-10</th>\n",
       "      <td>5.2345</td>\n",
       "      <td>113359.0</td>\n",
       "      <td>5.2345</td>\n",
       "      <td>113359.0</td>\n",
       "      <td>5.2446</td>\n",
       "      <td>113812.0</td>\n",
       "      <td>5.170000</td>\n",
       "      <td>112163.0</td>\n",
       "      <td>5.231429</td>\n",
       "      <td>112462.0</td>\n",
       "      <td>0.0</td>\n",
       "      <td>13267900.0</td>\n",
       "    </tr>\n",
       "    <tr>\n",
       "      <th>2022-02-11</th>\n",
       "      <td>5.2487</td>\n",
       "      <td>113572.0</td>\n",
       "      <td>5.2487</td>\n",
       "      <td>113572.0</td>\n",
       "      <td>5.2512</td>\n",
       "      <td>114899.0</td>\n",
       "      <td>5.182800</td>\n",
       "      <td>113128.0</td>\n",
       "      <td>5.248600</td>\n",
       "      <td>113368.0</td>\n",
       "      <td>0.0</td>\n",
       "      <td>18602800.0</td>\n",
       "    </tr>\n",
       "    <tr>\n",
       "      <th>...</th>\n",
       "      <td>...</td>\n",
       "      <td>...</td>\n",
       "      <td>...</td>\n",
       "      <td>...</td>\n",
       "      <td>...</td>\n",
       "      <td>...</td>\n",
       "      <td>...</td>\n",
       "      <td>...</td>\n",
       "      <td>...</td>\n",
       "      <td>...</td>\n",
       "      <td>...</td>\n",
       "      <td>...</td>\n",
       "    </tr>\n",
       "    <tr>\n",
       "      <th>2023-02-02</th>\n",
       "      <td>5.0535</td>\n",
       "      <td>109935.0</td>\n",
       "      <td>5.0535</td>\n",
       "      <td>109935.0</td>\n",
       "      <td>5.0545</td>\n",
       "      <td>112943.0</td>\n",
       "      <td>4.941700</td>\n",
       "      <td>109747.0</td>\n",
       "      <td>5.053500</td>\n",
       "      <td>112072.0</td>\n",
       "      <td>0.0</td>\n",
       "      <td>15241800.0</td>\n",
       "    </tr>\n",
       "    <tr>\n",
       "      <th>2023-02-03</th>\n",
       "      <td>5.0492</td>\n",
       "      <td>108490.0</td>\n",
       "      <td>5.0492</td>\n",
       "      <td>108490.0</td>\n",
       "      <td>5.1347</td>\n",
       "      <td>110570.0</td>\n",
       "      <td>5.046758</td>\n",
       "      <td>108185.0</td>\n",
       "      <td>5.049200</td>\n",
       "      <td>110141.0</td>\n",
       "      <td>0.0</td>\n",
       "      <td>13235300.0</td>\n",
       "    </tr>\n",
       "    <tr>\n",
       "      <th>2023-02-04</th>\n",
       "      <td>NaN</td>\n",
       "      <td>NaN</td>\n",
       "      <td>NaN</td>\n",
       "      <td>NaN</td>\n",
       "      <td>NaN</td>\n",
       "      <td>NaN</td>\n",
       "      <td>NaN</td>\n",
       "      <td>NaN</td>\n",
       "      <td>NaN</td>\n",
       "      <td>NaN</td>\n",
       "      <td>NaN</td>\n",
       "      <td>NaN</td>\n",
       "    </tr>\n",
       "    <tr>\n",
       "      <th>2023-02-05</th>\n",
       "      <td>NaN</td>\n",
       "      <td>NaN</td>\n",
       "      <td>NaN</td>\n",
       "      <td>NaN</td>\n",
       "      <td>NaN</td>\n",
       "      <td>NaN</td>\n",
       "      <td>NaN</td>\n",
       "      <td>NaN</td>\n",
       "      <td>NaN</td>\n",
       "      <td>NaN</td>\n",
       "      <td>NaN</td>\n",
       "      <td>NaN</td>\n",
       "    </tr>\n",
       "    <tr>\n",
       "      <th>2023-02-06</th>\n",
       "      <td>5.1498</td>\n",
       "      <td>108456.0</td>\n",
       "      <td>5.1498</td>\n",
       "      <td>108456.0</td>\n",
       "      <td>5.2060</td>\n",
       "      <td>108710.0</td>\n",
       "      <td>5.147992</td>\n",
       "      <td>107416.0</td>\n",
       "      <td>5.149800</td>\n",
       "      <td>108518.0</td>\n",
       "      <td>0.0</td>\n",
       "      <td>11514600.0</td>\n",
       "    </tr>\n",
       "  </tbody>\n",
       "</table>\n",
       "<p>365 rows × 12 columns</p>\n",
       "</div>"
      ],
      "text/plain": [
       "           Adj Close             Close              High                 Low  \\\n",
       "               BRL=X     ^BVSP   BRL=X     ^BVSP   BRL=X     ^BVSP     BRL=X   \n",
       "Date                                                                           \n",
       "2022-02-07    5.3269  111996.0  5.3269  111996.0  5.3430  112517.0  5.276800   \n",
       "2022-02-08    5.2626  112234.0  5.2626  112234.0  5.2849  112251.0  5.251000   \n",
       "2022-02-09    5.2584  112461.0  5.2584  112461.0  5.2880  113163.0  5.232774   \n",
       "2022-02-10    5.2345  113359.0  5.2345  113359.0  5.2446  113812.0  5.170000   \n",
       "2022-02-11    5.2487  113572.0  5.2487  113572.0  5.2512  114899.0  5.182800   \n",
       "...              ...       ...     ...       ...     ...       ...       ...   \n",
       "2023-02-02    5.0535  109935.0  5.0535  109935.0  5.0545  112943.0  4.941700   \n",
       "2023-02-03    5.0492  108490.0  5.0492  108490.0  5.1347  110570.0  5.046758   \n",
       "2023-02-04       NaN       NaN     NaN       NaN     NaN       NaN       NaN   \n",
       "2023-02-05       NaN       NaN     NaN       NaN     NaN       NaN       NaN   \n",
       "2023-02-06    5.1498  108456.0  5.1498  108456.0  5.2060  108710.0  5.147992   \n",
       "\n",
       "                          Open           Volume              \n",
       "               ^BVSP     BRL=X     ^BVSP  BRL=X       ^BVSP  \n",
       "Date                                                         \n",
       "2022-02-07  111490.0  5.326200  112247.0    0.0  10672800.0  \n",
       "2022-02-08  110943.0  5.262800  111995.0    0.0  10157500.0  \n",
       "2022-02-09  111710.0  5.256489  112233.0    0.0  13794500.0  \n",
       "2022-02-10  112163.0  5.231429  112462.0    0.0  13267900.0  \n",
       "2022-02-11  113128.0  5.248600  113368.0    0.0  18602800.0  \n",
       "...              ...       ...       ...    ...         ...  \n",
       "2023-02-02  109747.0  5.053500  112072.0    0.0  15241800.0  \n",
       "2023-02-03  108185.0  5.049200  110141.0    0.0  13235300.0  \n",
       "2023-02-04       NaN       NaN       NaN    NaN         NaN  \n",
       "2023-02-05       NaN       NaN       NaN    NaN         NaN  \n",
       "2023-02-06  107416.0  5.149800  108518.0    0.0  11514600.0  \n",
       "\n",
       "[365 rows x 12 columns]"
      ]
     },
     "metadata": {},
     "output_type": "display_data"
    }
   ],
   "source": [
    "codigos_dos_ativos = [\"^BVSP\" , \"BRL=X\"]\n",
    "\n",
    "#código que mostra a data de \"hoje\"\n",
    "hoje = datetime.datetime.now()\n",
    "\n",
    "#Código que mostra a data do dia que definir subtraindo a data de \"hoje\"\n",
    "um_ano_atras = hoje - datetime.timedelta(days = 365)\n",
    "\n",
    "#código cria uma tabela com o nome \"dados mercado\" com o código dos ativos estabelecidos data que eu quis iniciar até hoje\n",
    "dados_mercado = yf.download(codigos_dos_ativos , um_ano_atras , hoje)\n",
    "\n",
    "#Com essa linha de código adicionada você vai transformar todos os dados em diários \n",
    "dados_mercado = dados_mercado.resample(\"1D\").last()\n",
    "\n",
    "#display mostra a tabela um pouco mais bonita que em \"print\"\n",
    "display(dados_mercado)\n"
   ]
  },
  {
   "cell_type": "markdown",
   "id": "42135bed",
   "metadata": {},
   "source": [
    "\n",
    "Passo 3.1: Manipulando os dados - seleção e exclusão de dados\n",
    "\n"
   ]
  },
  {
   "cell_type": "code",
   "execution_count": 7,
   "id": "1dccd7a4",
   "metadata": {},
   "outputs": [],
   "source": [
    "#Código pega somente a coluna selecionada da tabela\n",
    "dados_fechamento = dados_mercado['Adj Close']\n",
    "\n",
    "\n",
    "#Código muda o nome das colunas a sua escolha\n",
    "dados_fechamento.columns = [\"dolar\" , \"ibovespa\"]\n",
    "\n",
    "\n",
    "#Elimino os dados sem infomação da tabela\n",
    "dados_fechamento = dados_fechamento.dropna()"
   ]
  },
  {
   "cell_type": "markdown",
   "id": "2418d2ff",
   "metadata": {},
   "source": [
    "\n",
    "Passo 3.2: Manipulando os dados - Criando tabelas com outros timeframes\n",
    "\n"
   ]
  },
  {
   "cell_type": "code",
   "execution_count": 8,
   "id": "e705224e",
   "metadata": {},
   "outputs": [],
   "source": [
    "#Deixei a base divididida anualmente e não mais diariamente como estava, a letra dentro do parenteses define a divisão y = year\n",
    "dados_anuais = dados_fechamento.resample(\"Y\").last()\n",
    "\n",
    "dados_mensais = dados_fechamento.resample(\"M\").last()"
   ]
  },
  {
   "cell_type": "markdown",
   "id": "f655830a",
   "metadata": {},
   "source": [
    "\n",
    "Passo 4 - Calcular fechamento do dia, retorno no ano e retorno no mês dos ativos\n",
    "\n"
   ]
  },
  {
   "cell_type": "code",
   "execution_count": 9,
   "id": "58f99c33",
   "metadata": {},
   "outputs": [
    {
     "data": {
      "text/html": [
       "<div>\n",
       "<style scoped>\n",
       "    .dataframe tbody tr th:only-of-type {\n",
       "        vertical-align: middle;\n",
       "    }\n",
       "\n",
       "    .dataframe tbody tr th {\n",
       "        vertical-align: top;\n",
       "    }\n",
       "\n",
       "    .dataframe thead th {\n",
       "        text-align: right;\n",
       "    }\n",
       "</style>\n",
       "<table border=\"1\" class=\"dataframe\">\n",
       "  <thead>\n",
       "    <tr style=\"text-align: right;\">\n",
       "      <th></th>\n",
       "      <th>dolar</th>\n",
       "      <th>ibovespa</th>\n",
       "    </tr>\n",
       "    <tr>\n",
       "      <th>Date</th>\n",
       "      <th></th>\n",
       "      <th></th>\n",
       "    </tr>\n",
       "  </thead>\n",
       "  <tbody>\n",
       "    <tr>\n",
       "      <th>2022-02-08</th>\n",
       "      <td>-0.012071</td>\n",
       "      <td>0.002125</td>\n",
       "    </tr>\n",
       "    <tr>\n",
       "      <th>2022-02-09</th>\n",
       "      <td>-0.000798</td>\n",
       "      <td>0.002023</td>\n",
       "    </tr>\n",
       "    <tr>\n",
       "      <th>2022-02-10</th>\n",
       "      <td>-0.004545</td>\n",
       "      <td>0.007985</td>\n",
       "    </tr>\n",
       "    <tr>\n",
       "      <th>2022-02-11</th>\n",
       "      <td>0.002713</td>\n",
       "      <td>0.001879</td>\n",
       "    </tr>\n",
       "    <tr>\n",
       "      <th>2022-02-14</th>\n",
       "      <td>0.000239</td>\n",
       "      <td>0.002069</td>\n",
       "    </tr>\n",
       "    <tr>\n",
       "      <th>...</th>\n",
       "      <td>...</td>\n",
       "      <td>...</td>\n",
       "    </tr>\n",
       "    <tr>\n",
       "      <th>2023-01-31</th>\n",
       "      <td>0.001508</td>\n",
       "      <td>0.014693</td>\n",
       "    </tr>\n",
       "    <tr>\n",
       "      <th>2023-02-01</th>\n",
       "      <td>-0.008348</td>\n",
       "      <td>-0.010825</td>\n",
       "    </tr>\n",
       "    <tr>\n",
       "      <th>2023-02-02</th>\n",
       "      <td>-0.003687</td>\n",
       "      <td>-0.021086</td>\n",
       "    </tr>\n",
       "    <tr>\n",
       "      <th>2023-02-03</th>\n",
       "      <td>-0.000851</td>\n",
       "      <td>-0.013144</td>\n",
       "    </tr>\n",
       "    <tr>\n",
       "      <th>2023-02-06</th>\n",
       "      <td>0.019924</td>\n",
       "      <td>-0.000313</td>\n",
       "    </tr>\n",
       "  </tbody>\n",
       "</table>\n",
       "<p>250 rows × 2 columns</p>\n",
       "</div>"
      ],
      "text/plain": [
       "               dolar  ibovespa\n",
       "Date                          \n",
       "2022-02-08 -0.012071  0.002125\n",
       "2022-02-09 -0.000798  0.002023\n",
       "2022-02-10 -0.004545  0.007985\n",
       "2022-02-11  0.002713  0.001879\n",
       "2022-02-14  0.000239  0.002069\n",
       "...              ...       ...\n",
       "2023-01-31  0.001508  0.014693\n",
       "2023-02-01 -0.008348 -0.010825\n",
       "2023-02-02 -0.003687 -0.021086\n",
       "2023-02-03 -0.000851 -0.013144\n",
       "2023-02-06  0.019924 -0.000313\n",
       "\n",
       "[250 rows x 2 columns]"
      ]
     },
     "execution_count": 9,
     "metadata": {},
     "output_type": "execute_result"
    }
   ],
   "source": [
    "#trago o retorno percentual anual, pct = percent e no final já elimino as linhas sem dados com o \"dropna\"\n",
    "retorno_anual = dados_anuais.pct_change().dropna()\n",
    "\n",
    "#trago o retorno percentual mensal\n",
    "retorno_mensal = dados_mensais.pct_change().dropna()\n",
    "\n",
    "#trago o retorno percentual diário\n",
    "retorno_diario = dados_fechamento.pct_change().dropna()\n",
    "\n",
    "retorno_diario"
   ]
  },
  {
   "cell_type": "markdown",
   "id": "b9ae9363",
   "metadata": {},
   "source": [
    "\n",
    "Passo 5 - Localizar o fechamento do dia anterior, retorno no mês e retorno no ano\n",
    "\n",
    "loc -> referenciar elementos a partir do nome\n",
    "iloc -> selecionar elementos como uma matriz"
   ]
  },
  {
   "cell_type": "code",
   "execution_count": 10,
   "id": "71e925d0",
   "metadata": {
    "scrolled": true
   },
   "outputs": [
    {
     "name": "stdout",
     "output_type": "stream",
     "text": [
      "0.019923901731429217\n"
     ]
    },
    {
     "data": {
      "text/html": [
       "<div>\n",
       "<style scoped>\n",
       "    .dataframe tbody tr th:only-of-type {\n",
       "        vertical-align: middle;\n",
       "    }\n",
       "\n",
       "    .dataframe tbody tr th {\n",
       "        vertical-align: top;\n",
       "    }\n",
       "\n",
       "    .dataframe thead th {\n",
       "        text-align: right;\n",
       "    }\n",
       "</style>\n",
       "<table border=\"1\" class=\"dataframe\">\n",
       "  <thead>\n",
       "    <tr style=\"text-align: right;\">\n",
       "      <th></th>\n",
       "      <th>dolar</th>\n",
       "      <th>ibovespa</th>\n",
       "    </tr>\n",
       "    <tr>\n",
       "      <th>Date</th>\n",
       "      <th></th>\n",
       "      <th></th>\n",
       "    </tr>\n",
       "  </thead>\n",
       "  <tbody>\n",
       "    <tr>\n",
       "      <th>2023-12-31</th>\n",
       "      <td>-0.022215</td>\n",
       "      <td>-0.014314</td>\n",
       "    </tr>\n",
       "  </tbody>\n",
       "</table>\n",
       "</div>"
      ],
      "text/plain": [
       "               dolar  ibovespa\n",
       "Date                          \n",
       "2023-12-31 -0.022215 -0.014314"
      ]
     },
     "metadata": {},
     "output_type": "display_data"
    }
   ],
   "source": [
    "# retorno_jan_26_2022 = retorno_diario.loc['2022-01-26', 'dolar']\n",
    "# retorno_jan_26_2022_iloc = retorno_diario.iloc[1, 0]\n",
    "\n",
    "#Pego o retorno percentual do último dia da tabela, tanto para Dolar como para ibov\n",
    "retorno_diario_dolar = retorno_diario.iloc[-1, 0]\n",
    "retorno_diario_ibov = retorno_diario.iloc[-1, 1]\n",
    "\n",
    "#Pego o retorno percentual do último mês da tabela, tanto para Dolar como para ibov\n",
    "retorno_mensal_dolar = retorno_mensal.iloc[-1, 0]\n",
    "retorno_mensal_ibov = retorno_mensal.iloc[-1, 1]\n",
    "\n",
    "#Pego o retorno percentual do último ano da tabela, tanto para Dolar como para ibov\n",
    "retorno_anual_dolar = retorno_anual.iloc[-1, 0]\n",
    "retorno_anual_ibov = retorno_anual.iloc[-1, 1]\n",
    "\n",
    "print(retorno_diario_dolar)\n",
    "display(retorno_anual)"
   ]
  },
  {
   "cell_type": "code",
   "execution_count": 11,
   "id": "2c684d55",
   "metadata": {},
   "outputs": [
    {
     "data": {
      "text/plain": [
       "1.99"
      ]
     },
     "execution_count": 11,
     "metadata": {},
     "output_type": "execute_result"
    }
   ],
   "source": [
    "#Estou reduzindo a quantdade de casas decimais\n",
    "retorno_diario_dolar = round((retorno_diario_dolar * 100), 2)\n",
    "retorno_diario_ibov = round((retorno_diario_ibov * 100), 2)\n",
    "\n",
    "#Estou reduzindo a quantdade de casas decimais\n",
    "retorno_mensal_dolar = round((retorno_mensal_dolar * 100), 2)\n",
    "retorno_mensal_ibov = round((retorno_mensal_ibov * 100), 2) \n",
    "\n",
    "#Estou reduzindo a quantdade de casas decimais\n",
    "retorno_anual_dolar = round((retorno_anual_dolar * 100), 2)\n",
    "retorno_anual_ibov = round((retorno_anual_ibov * 100), 2)\n",
    "\n",
    "retorno_diario_dolar"
   ]
  },
  {
   "cell_type": "markdown",
   "id": "37808bd3",
   "metadata": {},
   "source": [
    "\n",
    "Passo 6 - Fazer os gráficos da performance do último dos ativos\n",
    "\n"
   ]
  },
  {
   "cell_type": "code",
   "execution_count": 12,
   "id": "9b830077",
   "metadata": {},
   "outputs": [
    {
     "data": {
      "image/png": "[encoded data removed]",
      "text/plain": [
       "<Figure size 640x480 with 1 Axes>"
      ]
     },
     "metadata": {},
     "output_type": "display_data"
    }
   ],
   "source": [
    "#utilizando o cyberpunk para deixar o gráfico mais bonito\n",
    "plt.style.use(\"cyberpunk\")\n",
    "\n",
    "\n",
    "#defino o eixo y sendo a coluna Ibovespa e utilizar o indice data como eixo x \n",
    "dados_fechamento.plot(y = \"ibovespa\" , use_index = True, legend = False)\n",
    "\n",
    "#dou um título para o gráfico\n",
    "plt.title(\"Ibovespa\")\n",
    "\n",
    "#salvar a imagem no computador\n",
    "plt.savefig(\"Ibovespa.png\", dpi = 300)\n",
    "\n",
    "plt.show()"
   ]
  },
  {
   "cell_type": "code",
   "execution_count": 13,
   "id": "8e8e1fef",
   "metadata": {},
   "outputs": [
    {
     "data": {
      "image/png": "[encoded data removed]",
      "text/plain": [
       "<Figure size 640x480 with 1 Axes>"
      ]
     },
     "metadata": {},
     "output_type": "display_data"
    }
   ],
   "source": [
    "#utilizando o cyberpunk para deixar o gráfico mais bonito\n",
    "plt.style.use(\"cyberpunk\")\n",
    "\n",
    "\n",
    "#defino o eixo y sendo a coluna Ibovespa e utilizar o indice data como eixo x \n",
    "dados_fechamento.plot(y = \"dolar\" , use_index = True, legend = False)\n",
    "\n",
    "#dou um título para o gráfico\n",
    "plt.title(\"Dólar\")\n",
    "\n",
    "#salvar a imagem no computador\n",
    "plt.savefig(\"Dolar.png\", dpi = 300)\n",
    "\n",
    "plt.show()"
   ]
  },
  {
   "cell_type": "markdown",
   "id": "53045747",
   "metadata": {},
   "source": [
    "Passo 7: Enviar e-mail"
   ]
  },
  {
   "cell_type": "code",
   "execution_count": 14,
   "id": "40c2459b",
   "metadata": {},
   "outputs": [],
   "source": [
    "outlook = win32.Dispatch(\"outlook.application\")\n",
    "\n",
    "\n",
    "email = outlook.CreateItem(0)"
   ]
  },
  {
   "cell_type": "code",
   "execution_count": 15,
   "id": "e5253b88",
   "metadata": {},
   "outputs": [],
   "source": [
    "email.To = \"luis.f.aguiar95@gmail.com\"\n",
    "email.Subject = \"Relatório Diário\"\n",
    "\n",
    "email.Body = f''' Prezado(a) , segue o relatório diário:\n",
    "\n",
    "Bolsa:\n",
    "\n",
    "No ano o Ibovespa está tendo uma rentabilidade de {retorno_anual_ibov}%, \n",
    "enquanto no mês a rentabilidade é de {retorno_mensal_ibov}%.\n",
    "\n",
    "No último dia útil, o fechamento do Ibovespa foi de {retorno_diario_ibov}%.\n",
    "\n",
    "Dólar:\n",
    "\n",
    "No ano o Dólar está tendo uma rentabilidade de {retorno_anual_dolar}%, \n",
    "enquanto no mês a rentabilidade é de {retorno_mensal_dolar}%.\n",
    "\n",
    "No último dia útil, o fechamento do Dólar foi de {retorno_diario_dolar}%.\n",
    "\n",
    "\n",
    "Abs,\n",
    "\n",
    "Luis Felipe\n",
    "\n",
    "'''\n",
    "\n",
    "anexo_ibovespa = r'C:\\Users\\luisf\\Documents\\Python Varos\\Aula 1 - Relatório por Email\\Ibovespa.png'\n",
    "\n",
    "anexo_dolar = r'C:\\Users\\luisf\\Documents\\Python Varos\\Aula 1 - Relatório por Email\\Dolar.png'\n",
    "\n",
    "email.Attachments.Add(anexo_ibovespa)\n",
    "email.Attachments.Add(anexo_dolar)\n",
    "\n",
    "email.Send()"
   ]
  }
 ],
 "metadata": {
  "kernelspec": {
   "display_name": "Python 3 (ipykernel)",
   "language": "python",
   "name": "python3"
  },
  "language_info": {
   "codemirror_mode": {
    "name": "ipython",
    "version": 3
   },
   "file_extension": ".py",
   "mimetype": "text/x-python",
   "name": "python",
   "nbconvert_exporter": "python",
   "pygments_lexer": "ipython3",
   "version": "3.9.13"
  }
 },
 "nbformat": 4,
 "nbformat_minor": 5
}
